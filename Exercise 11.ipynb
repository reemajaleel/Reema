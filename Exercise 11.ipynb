{
 "cells": [
  {
   "cell_type": "code",
   "execution_count": 2,
   "metadata": {},
   "outputs": [
    {
     "name": "stdout",
     "output_type": "stream",
     "text": [
      "Enter the source file name: myfile.txt\n",
      "Enter the desination file name: exfile.txt\n",
      "File copied\n"
     ]
    }
   ],
   "source": [
    "#copy a text file to another file\n",
    "file1=input(\"Enter the source file name: \")\n",
    "file2=input(\"Enter the desination file name: \")\n",
    "f1=open(file1,\"r\")\n",
    "f2=open(file2,\"w\")\n",
    "for line in f1.readlines():\n",
    "    f2.write(line)\n",
    "f1.close()\n",
    "f2.close()\n",
    "print(\"File copied\")"
   ]
  },
  {
   "cell_type": "code",
   "execution_count": 6,
   "metadata": {},
   "outputs": [
    {
     "name": "stdout",
     "output_type": "stream",
     "text": [
      "Enter the source file name: exfile.txt\n",
      "Enter the desination file name: myfile.txt\n",
      "File appended\n"
     ]
    }
   ],
   "source": [
    "#append a file with another file\n",
    "file1=input(\"Enter the source file name: \")\n",
    "file2=input(\"Enter the desination file name: \")\n",
    "f1=open(file1,\"r\")\n",
    "f2=open(file2,\"a+\")\n",
    "for line in f1.readlines():\n",
    "    f2.write(line)\n",
    "f1.close()\n",
    "f2.close()\n",
    "print(\"File appended\")"
   ]
  },
  {
   "cell_type": "code",
   "execution_count": 8,
   "metadata": {},
   "outputs": [
    {
     "name": "stdout",
     "output_type": "stream",
     "text": [
      "Enter the source file name: myfile.txt\n",
      "4\n"
     ]
    }
   ],
   "source": [
    "#number of lines in a file\n",
    "l=[]\n",
    "file1=input(\"Enter the source file name: \")\n",
    "f1=open(file1,\"r\")\n",
    "for line in f1.readlines():\n",
    "    l.append(line)\n",
    "print(len(l))"
   ]
  },
  {
   "cell_type": "code",
   "execution_count": null,
   "metadata": {},
   "outputs": [],
   "source": [
    "#program to copy only add files\n",
    "file1=input(\"Enter the source file name: \")\n",
    "file2=input(\"Enter the desination file name: \")\n",
    "f1=open(file1,\"r\")\n",
    "f2=open(file2,\"w\")\n",
    "i=0\n",
    "for line in f1.readlines():\n",
    "    i=i+1\n",
    "    if i%2 == 0:\n",
    "        continue\n",
    "    f2.write(line)\n",
    "f1.close()\n",
    "f2.close()\n",
    "print(\"File copied\")"
   ]
  },
  {
   "cell_type": "code",
   "execution_count": null,
   "metadata": {
    "collapsed": true
   },
   "outputs": [],
   "source": []
  }
 ],
 "metadata": {
  "kernelspec": {
   "display_name": "Python 3",
   "language": "python",
   "name": "python3"
  },
  "language_info": {
   "codemirror_mode": {
    "name": "ipython",
    "version": 3
   },
   "file_extension": ".py",
   "mimetype": "text/x-python",
   "name": "python",
   "nbconvert_exporter": "python",
   "pygments_lexer": "ipython3",
   "version": "3.6.3"
  }
 },
 "nbformat": 4,
 "nbformat_minor": 2
}
