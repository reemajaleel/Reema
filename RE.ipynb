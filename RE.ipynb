{
 "cells": [
  {
   "cell_type": "code",
   "execution_count": 2,
   "metadata": {
    "collapsed": true
   },
   "outputs": [],
   "source": [
    "import re\n",
    "m = re.match('foo','seafood')\n",
    "if m != None:\n",
    "    print(m.group())"
   ]
  },
  {
   "cell_type": "code",
   "execution_count": 3,
   "metadata": {},
   "outputs": [
    {
     "name": "stdout",
     "output_type": "stream",
     "text": [
      "foo\n"
     ]
    }
   ],
   "source": [
    "m = re.search('foo','seafood')\n",
    "if m != None: print(m.group())"
   ]
  },
  {
   "cell_type": "code",
   "execution_count": 5,
   "metadata": {},
   "outputs": [
    {
     "data": {
      "text/plain": [
       "'foo'"
      ]
     },
     "execution_count": 5,
     "metadata": {},
     "output_type": "execute_result"
    }
   ],
   "source": [
    "m = re.match('foo','food on the table')\n",
    "m.group()"
   ]
  },
  {
   "cell_type": "code",
   "execution_count": 7,
   "metadata": {},
   "outputs": [
    {
     "name": "stdout",
     "output_type": "stream",
     "text": [
      "['456767', '88888', '11', '1', '111', '34', '998']\n"
     ]
    }
   ],
   "source": [
    "#findall\n",
    "import re \n",
    "a=\"hello 456767 world 88888 ok 11 1 111 alpha 34 beta 998g\"\n",
    "print(re.findall(\"\\d+\",a))"
   ]
  },
  {
   "cell_type": "code",
   "execution_count": 8,
   "metadata": {},
   "outputs": [
    {
     "name": "stdout",
     "output_type": "stream",
     "text": [
      "Zip Code :  2004978334\n"
     ]
    }
   ],
   "source": [
    "#remove anything other than digits\n",
    "import re \n",
    "zipcode=\"2004-978-334 # This is a zipcode\"\n",
    "num=re.sub('\\D',\"\",zipcode)\n",
    "print(\"Zip Code : \",num)"
   ]
  },
  {
   "cell_type": "code",
   "execution_count": 11,
   "metadata": {},
   "outputs": [
    {
     "name": "stdout",
     "output_type": "stream",
     "text": [
      "Ram is a boy\n",
      "\n",
      "Geetha is a girl\n",
      "\n",
      "This is a regular expression\n",
      "\n"
     ]
    }
   ],
   "source": [
    "#to display only lines containing 'a'\n",
    "import re\n",
    "file=open(\"aline.txt\",\"r\")\n",
    "text=file.readlines()\n",
    "file.close()\n",
    "keyword=re.compile('a')\n",
    "for line in text:\n",
    "    if keyword.search(line):\n",
    "        print(line)"
   ]
  },
  {
   "cell_type": "code",
   "execution_count": 14,
   "metadata": {},
   "outputs": [
    {
     "name": "stdout",
     "output_type": "stream",
     "text": [
      "This is the house\n",
      "\n",
      "The kkk rrrrt\n"
     ]
    }
   ],
   "source": [
    "#retrieve all lines that contains 'the'\n",
    "import re\n",
    "file=open(\"aline.txt\",\"r\")\n",
    "text=file.readlines()\n",
    "file.close()\n",
    "keyword=re.compile('the',re.I)\n",
    "for line in text:\n",
    "    if keyword.search(line):\n",
    "        print(line)"
   ]
  },
  {
   "cell_type": "code",
   "execution_count": 16,
   "metadata": {},
   "outputs": [
    {
     "name": "stdout",
     "output_type": "stream",
     "text": [
      "28.2.2022\n",
      "\n"
     ]
    }
   ],
   "source": [
    "#to display the date\n",
    "import re\n",
    "file=open(\"aline.txt\",\"r\")\n",
    "text=file.readlines()\n",
    "file.close()\n",
    "keyword=re.compile('\\d\\d?\\.\\d\\d?\\.\\d\\d')\n",
    "for line in text:\n",
    "    if keyword.search(line):\n",
    "        print(line)"
   ]
  },
  {
   "cell_type": "code",
   "execution_count": null,
   "metadata": {
    "collapsed": true
   },
   "outputs": [],
   "source": []
  }
 ],
 "metadata": {
  "kernelspec": {
   "display_name": "Python 3",
   "language": "python",
   "name": "python3"
  },
  "language_info": {
   "codemirror_mode": {
    "name": "ipython",
    "version": 3
   },
   "file_extension": ".py",
   "mimetype": "text/x-python",
   "name": "python",
   "nbconvert_exporter": "python",
   "pygments_lexer": "ipython3",
   "version": "3.6.3"
  }
 },
 "nbformat": 4,
 "nbformat_minor": 2
}
