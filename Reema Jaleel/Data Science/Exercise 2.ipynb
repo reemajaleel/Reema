{
 "cells": [
  {
   "cell_type": "code",
   "execution_count": 1,
   "metadata": {},
   "outputs": [
    {
     "name": "stdout",
     "output_type": "stream",
     "text": [
      "Matrix mat1 : \n",
      " [[1 2 3]\n",
      " [4 5 6]\n",
      " [7 8 9]]\n",
      "\n",
      "Matix mat2 : \n",
      " [[6 1 2]\n",
      " [4 3 2]\n",
      " [1 3 8]]\n",
      "\n",
      "Multiplication of mat1 and mat2 : \n",
      "m = \n",
      " [[ 17  16  30]\n",
      " [ 50  37  66]\n",
      " [ 83  58 102]]\n",
      "\n",
      "Transpose of matrix 'm' :\n",
      " [[ 17  50  83]\n",
      " [ 16  37  58]\n",
      " [ 30  66 102]]\n"
     ]
    }
   ],
   "source": [
    "#Program to perform matrix multiplication\n",
    "\n",
    "import numpy as np\n",
    "\n",
    "mat1=np.array([[1,2,3],[4,5,6],[7,8,9]])\n",
    "mat2=np.array([[6,1,2],[4,3,2],[1,3,8]])\n",
    "\n",
    "print(\"Matrix mat1 : \\n\",mat1)\n",
    "print(\"\\nMatix mat2 : \\n\",mat2)\n",
    "\n",
    "m=np.dot(mat1,mat2)\n",
    "\n",
    "print(\"\\nMultiplication of mat1 and mat2 : \\nm = \\n\",m)\n",
    "\n",
    "print(\"\\nTranspose of matrix 'm' :\\n\",np.transpose(m))"
   ]
  },
  {
   "cell_type": "code",
   "execution_count": null,
   "metadata": {
    "collapsed": true
   },
   "outputs": [],
   "source": []
  }
 ],
 "metadata": {
  "kernelspec": {
   "display_name": "Python 3",
   "language": "python",
   "name": "python3"
  },
  "language_info": {
   "codemirror_mode": {
    "name": "ipython",
    "version": 3
   },
   "file_extension": ".py",
   "mimetype": "text/x-python",
   "name": "python",
   "nbconvert_exporter": "python",
   "pygments_lexer": "ipython3",
   "version": "3.6.3"
  }
 },
 "nbformat": 4,
 "nbformat_minor": 2
}
