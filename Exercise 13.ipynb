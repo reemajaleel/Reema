{
 "cells": [
  {
   "cell_type": "code",
   "execution_count": 1,
   "metadata": {},
   "outputs": [
    {
     "name": "stdout",
     "output_type": "stream",
     "text": [
      "First number: 1\n",
      "Second number: 0\n",
      "Division by Zero Error Occured\n"
     ]
    }
   ],
   "source": [
    "#division by zero error\n",
    "try:\n",
    "    a=int(input(\"First number: \"))\n",
    "    b=int(input(\"Second number: \"))\n",
    "    result=a/b\n",
    "    print(\"Result: \",result)\n",
    "except ZeroDivisionError:\n",
    "    print(\"Division by Zero Error Occured\")"
   ]
  },
  {
   "cell_type": "code",
   "execution_count": 2,
   "metadata": {},
   "outputs": [
    {
     "name": "stdout",
     "output_type": "stream",
     "text": [
      "First number: a\n",
      "Error Occured\n"
     ]
    }
   ],
   "source": [
    "#program of error\n",
    "try:\n",
    "    a=int(input(\"First number: \"))\n",
    "    b=int(input(\"Second number: \"))\n",
    "    result=a/b\n",
    "    print(\"Result: \",result)\n",
    "except(ZeroDivisionError,ValueError):\n",
    "    print(\"Error Occured\")"
   ]
  },
  {
   "cell_type": "code",
   "execution_count": 8,
   "metadata": {},
   "outputs": [
    {
     "name": "stdout",
     "output_type": "stream",
     "text": [
      "Enter a number: 2\n",
      "This value is too small\n",
      "Enter a number: 11\n",
      "This value is too large\n",
      "Enter a number: 10\n",
      "You guessed it right\n"
     ]
    }
   ],
   "source": [
    "#value too small error and value too large error\n",
    "class Error(Exception):\n",
    "    \"Base Class for other exceptions\"\n",
    "    pass\n",
    "class ValueTooSmallError(Error):\n",
    "    pass\n",
    "class ValueTooLargeError(Error):\n",
    "    pass\n",
    "num=10\n",
    "while True:\n",
    "    try:\n",
    "        in_num=int(input(\"Enter a number: \"))\n",
    "        if in_num<num:\n",
    "            raise ValueTooSmallError\n",
    "        elif in_num>num:\n",
    "            raise ValueTooLargeError\n",
    "        break\n",
    "    except ValueTooSmallError:\n",
    "        print(\"This value is too small\")\n",
    "    except ValueTooLargeError:\n",
    "        print(\"This value is too large\")\n",
    "print(\"You guessed it right\")"
   ]
  },
  {
   "cell_type": "code",
   "execution_count": null,
   "metadata": {
    "collapsed": true
   },
   "outputs": [],
   "source": []
  }
 ],
 "metadata": {
  "kernelspec": {
   "display_name": "Python 3",
   "language": "python",
   "name": "python3"
  },
  "language_info": {
   "codemirror_mode": {
    "name": "ipython",
    "version": 3
   },
   "file_extension": ".py",
   "mimetype": "text/x-python",
   "name": "python",
   "nbconvert_exporter": "python",
   "pygments_lexer": "ipython3",
   "version": "3.6.3"
  }
 },
 "nbformat": 4,
 "nbformat_minor": 2
}
